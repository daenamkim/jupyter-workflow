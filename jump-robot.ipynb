{
 "cells": [
  {
   "cell_type": "code",
   "execution_count": null,
   "metadata": {
    "collapsed": true
   },
   "outputs": [],
   "source": [
    "jumps = [3, 2, 1]\n",
    "total = 0 \n",
    "n = 4 \n",
    "remain = 0 \n",
    "static_index = 0 \n",
    "results = []"
   ]
  },
  {
   "cell_type": "code",
   "execution_count": 1,
   "metadata": {},
   "outputs": [
    {
     "ename": "NameError",
     "evalue": "name 'static_index' is not defined",
     "output_type": "error",
     "traceback": [
      "\u001b[0;31m---------------------------------------------------------------------------\u001b[0m",
      "\u001b[0;31mNameError\u001b[0m                                 Traceback (most recent call last)",
      "\u001b[0;32m<ipython-input-1-848497f0fab8>\u001b[0m in \u001b[0;36m<module>\u001b[0;34m()\u001b[0m\n\u001b[1;32m      1\u001b[0m \u001b[0;32mwhile\u001b[0m \u001b[0;32mTrue\u001b[0m\u001b[0;34m:\u001b[0m\u001b[0;34m\u001b[0m\u001b[0m\n\u001b[0;32m----> 2\u001b[0;31m     \u001b[0mvar_index\u001b[0m \u001b[0;34m=\u001b[0m \u001b[0mstatic_index\u001b[0m\u001b[0;34m\u001b[0m\u001b[0m\n\u001b[0m\u001b[1;32m      3\u001b[0m     \u001b[0mresult_entry\u001b[0m \u001b[0;34m=\u001b[0m \u001b[0;34m[\u001b[0m\u001b[0;34m]\u001b[0m\u001b[0;34m\u001b[0m\u001b[0m\n\u001b[1;32m      4\u001b[0m     \u001b[0mprint\u001b[0m\u001b[0;34m(\u001b[0m\u001b[0mvar_index\u001b[0m\u001b[0;34m)\u001b[0m\u001b[0;34m\u001b[0m\u001b[0m\n\u001b[1;32m      5\u001b[0m \u001b[0;34m\u001b[0m\u001b[0m\n",
      "\u001b[0;31mNameError\u001b[0m: name 'static_index' is not defined"
     ]
    }
   ],
   "source": [
    "while True:\n",
    "    var_index = static_index\n",
    "    result_entry = []\n",
    "    print(var_index)\n",
    "\n",
    "    while True:\n",
    "        remain = n - total\n",
    "        if remain == 0:\n",
    "            total = 0 \n",
    "            print(\"A\")\n",
    "            results.append(result_entry)\n",
    "            break\n",
    "        else:\n",
    "            if jumps[var_index] <= remain:\n",
    "                print(\"B\")\n",
    "                total += jumps[var_index]\n",
    "                result_entry.append(jumps[var_index])\n",
    "            else:\n",
    "                print(\"C\")\n",
    "                var_index += 1\n",
    "                if var_index >= jumps.__len__():\n",
    "                    print(\"D\")\n",
    "                    break\n",
    "\n",
    "    static_index += 1\n",
    "    print(\"F\")\n",
    "    if static_index >= jumps.__len__():\n",
    "        print(\"E\")\n",
    "        break"
   ]
  },
  {
   "cell_type": "code",
   "execution_count": null,
   "metadata": {
    "collapsed": true
   },
   "outputs": [],
   "source": []
  }
 ],
 "metadata": {
  "kernelspec": {
   "display_name": "Python 3",
   "language": "python",
   "name": "python3"
  },
  "language_info": {
   "codemirror_mode": {
    "name": "ipython",
    "version": 3
   },
   "file_extension": ".py",
   "mimetype": "text/x-python",
   "name": "python",
   "nbconvert_exporter": "python",
   "pygments_lexer": "ipython3",
   "version": "3.6.0"
  }
 },
 "nbformat": 4,
 "nbformat_minor": 2
}
